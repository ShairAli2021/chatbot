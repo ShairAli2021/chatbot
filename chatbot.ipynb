{
 "cells": [
  {
   "cell_type": "code",
   "execution_count": 6,
   "id": "f7005849",
   "metadata": {},
   "outputs": [
    {
     "name": "stderr",
     "output_type": "stream",
     "text": [
      "[nltk_data] Downloading package punkt to\n",
      "[nltk_data]     C:\\Users\\Ali\\AppData\\Roaming\\nltk_data...\n",
      "[nltk_data]   Package punkt is already up-to-date!\n"
     ]
    }
   ],
   "source": [
    "import tkinter as tk\n",
    "from tkinter import scrolledtext\n",
    "import nltk\n",
    "from nltk.chat.util import Chat, reflections\n",
    "\n",
    "# Configure NLTK\n",
    "nltk.download(\"punkt\")\n",
    "\n",
    "# Define the chat pairs for the chatbot\n",
    "pairs = [\n",
    "    [\n",
    "        r\"(hi|hello|hey|howdy)\",\n",
    "        [\"Hello!\", \"Hi there!\", \"Hey! How can I help you today?\"],\n",
    "    ],\n",
    "    [\n",
    "        r\"(.*) (good|fine|well|ok)\",\n",
    "        [\"That's great to hear!\", \"I'm glad you're doing well! How can I assist you?\"],\n",
    "    ],\n",
    "    [\n",
    "        r\"(.*) (your name|who are you)\",\n",
    "        [\"I'm a topical chatbot. You can ask me about a specific topic.\"],\n",
    "    ],\n",
    "    [\n",
    "        r\"(what can you do|help)\",\n",
    "        [\n",
    "            \"I can provide information on a specific topic.\",\n",
    "            \"Just ask me a question related to the topic you're interested in.\",\n",
    "        ],\n",
    "    ],\n",
    "    [\n",
    "        r\"(exit|quit)\",\n",
    "        [\"Goodbye!\", \"Have a great day!\"],\n",
    "    ],\n",
    "     [\n",
    "        r\"(exit|quit)\",\n",
    "        [\"Goodbye!\", \"Have a great day!\"],\n",
    "    ],\n",
    "]\n",
    "\n",
    "# Create the chatbot\n",
    "chatbot = Chat(pairs, reflections)\n",
    "\n",
    "# Define a function to handle user input\n",
    "def ask_question():\n",
    "    user_input = user_input_text.get()\n",
    "    response = chatbot.respond(user_input)\n",
    "    chat_text.insert(tk.END, f\"You: {user_input}\\nBot: {response}\\n\\n\")\n",
    "    user_input_text.delete(0, tk.END)\n",
    "\n",
    "# Create the GUI\n",
    "root = tk.Tk()\n",
    "root.title(\"Topical Chatbot\")\n",
    "\n",
    "# Create a scrolled text widget for the chat history\n",
    "chat_text = scrolledtext.ScrolledText(root, width=40, height=15)\n",
    "chat_text.grid(row=0, column=0, columnspan=2)\n",
    "\n",
    "# Create an entry widget for user input\n",
    "user_input_text = tk.Entry(root, width=40)\n",
    "user_input_text.grid(row=1, column=0)\n",
    "\n",
    "# Create a button to send user input\n",
    "send_button = tk.Button(root, text=\"Send\", command=ask_question)\n",
    "send_button.grid(row=1, column=1)\n",
    "\n",
    "# Start the GUI main loop\n",
    "root.mainloop()\n"
   ]
  },
  {
   "cell_type": "code",
   "execution_count": null,
   "id": "5840b9a0",
   "metadata": {},
   "outputs": [],
   "source": []
  },
  {
   "cell_type": "code",
   "execution_count": 14,
   "id": "5364876a",
   "metadata": {
    "scrolled": true
   },
   "outputs": [
    {
     "ename": "SyntaxError",
     "evalue": "Missing parentheses in call to 'print'. Did you mean print('Couldn\\'t log in: Quitting.')? (chatbot.py, line 166)",
     "output_type": "error",
     "traceback": [
      "Traceback \u001b[1;36m(most recent call last)\u001b[0m:\n",
      "  File \u001b[0;32m\"C:\\Users\\Ali\\anaconda3\\lib\\site-packages\\IPython\\core\\interactiveshell.py\"\u001b[0m, line \u001b[0;32m3457\u001b[0m, in \u001b[0;35mrun_code\u001b[0m\n    exec(code_obj, self.user_global_ns, self.user_ns)\n",
      "\u001b[1;36m  File \u001b[1;32m\"C:\\Users\\Ali\\AppData\\Local\\Temp\\ipykernel_13560\\1576999026.py\"\u001b[1;36m, line \u001b[1;32m3\u001b[1;36m, in \u001b[1;35m<module>\u001b[1;36m\u001b[0m\n\u001b[1;33m    from chatbot import get_weather_response  # You'll need to implement this function\u001b[0m\n",
      "\u001b[1;36m  File \u001b[1;32m\"C:\\Users\\Ali\\anaconda3\\lib\\site-packages\\chatbot.py\"\u001b[1;36m, line \u001b[1;32m166\u001b[0m\n\u001b[1;33m    print 'Couldn\\'t log in: Quitting.'\u001b[0m\n\u001b[1;37m          ^\u001b[0m\n\u001b[1;31mSyntaxError\u001b[0m\u001b[1;31m:\u001b[0m Missing parentheses in call to 'print'. Did you mean print('Couldn\\'t log in: Quitting.')?\n"
     ]
    }
   ],
   "source": []
  },
  {
   "cell_type": "code",
   "execution_count": 12,
   "id": "86f378e2",
   "metadata": {
    "scrolled": true
   },
   "outputs": [
    {
     "name": "stdout",
     "output_type": "stream",
     "text": [
      "Collecting chatbot\n",
      "  Using cached chatbot-1.5.2b.tar.gz (3.9 kB)\n",
      "  Preparing metadata (setup.py): started\n",
      "  Preparing metadata (setup.py): finished with status 'done'\n",
      "Building wheels for collected packages: chatbot\n",
      "  Building wheel for chatbot (setup.py): started\n",
      "  Building wheel for chatbot (setup.py): finished with status 'done'\n",
      "  Created wheel for chatbot: filename=chatbot-1.5.2b0-py3-none-any.whl size=4274 sha256=f279cc74119d183b60d84969239511893f1023eb6a6f3c97c7cbd70f1e30378d\n",
      "  Stored in directory: c:\\users\\ali\\appdata\\local\\pip\\cache\\wheels\\34\\e6\\4a\\dc5d4c1c371bb2144e4c1337dfecea8fa475790891f66d3864\n",
      "Successfully built chatbot\n",
      "Installing collected packages: chatbot\n",
      "Successfully installed chatbot-1.5.2b0\n"
     ]
    }
   ],
   "source": [
    "!pip install chatbot"
   ]
  },
  {
   "cell_type": "code",
   "execution_count": null,
   "id": "f8bbf0cd",
   "metadata": {},
   "outputs": [],
   "source": []
  }
 ],
 "metadata": {
  "kernelspec": {
   "display_name": "Python 3 (ipykernel)",
   "language": "python",
   "name": "python3"
  },
  "language_info": {
   "codemirror_mode": {
    "name": "ipython",
    "version": 3
   },
   "file_extension": ".py",
   "mimetype": "text/x-python",
   "name": "python",
   "nbconvert_exporter": "python",
   "pygments_lexer": "ipython3",
   "version": "3.9.13"
  }
 },
 "nbformat": 4,
 "nbformat_minor": 5
}
